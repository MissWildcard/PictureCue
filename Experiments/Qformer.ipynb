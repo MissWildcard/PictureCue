{
 "cells": [
  {
   "cell_type": "code",
   "execution_count": 1,
   "id": "8ccb3260",
   "metadata": {},
   "outputs": [],
   "source": [
    "import os\n",
    "import json\n",
    "from PIL import Image\n",
    "\n",
    "# Directory containing images\n",
    "principal_dir = \"C://Users//smaran//Downloads//Data//samplefood\"\n",
    "\n",
    "# Load captions from JSON file\n",
    "#captions_file = \"C:\\\\Users\\\\smaran\\\\Downloads\\\\Data\\\\allfoodcaptionstrain2017.json\"\n",
    "#with open(captions_file, 'r') as f:\n",
    "#    captions_data = json.load(f)\n",
    "\n",
    "# Process images and captions\n",
    "images = []\n",
    "captions = []\n",
    "names_image = []\n",
    "image_paths = []\n",
    "\n",
    "# Iterate over images in the directory\n",
    "for filename in os.listdir(principal_dir):\n",
    "    if filename.endswith(\".jpg\"):\n",
    "      try:\n",
    "        # Load image\n",
    "        image_path = os.path.join(principal_dir, filename)\n",
    "        image = Image.open(image_path).convert('RGB')\n",
    "        image = image.resize((224, 224))\n",
    "        images.append(image)\n",
    "        names_image.append(filename)\n",
    "        image_paths.append(image_path)\n",
    "      except OSError as e:\n",
    "        print(f\"Error processing {filename}: {e}\")\n",
    "            # Optionally, you can choose to skip this image\n",
    "        continue\n",
    "        '''\n",
    "        # Get captions for the current image\n",
    "        image_id = filename.split('.')[0]  # Extract image ID from filename\n",
    "        image_captions = [caption[\"caption\"] for caption in captions_data if caption[\"image_id\"] == int(image_id)]\n",
    "        captions.append(image_captions)\n",
    "        '''\n",
    "# Display or process images and captions as needed\n"
   ]
  },
  {
   "cell_type": "code",
   "execution_count": 70,
   "id": "c87760cc",
   "metadata": {},
   "outputs": [
    {
     "data": {
      "text/plain": [
       "19"
      ]
     },
     "execution_count": 70,
     "metadata": {},
     "output_type": "execute_result"
    }
   ],
   "source": [
    "len(images)"
   ]
  },
  {
   "cell_type": "code",
   "execution_count": 2,
   "id": "eb2df10e",
   "metadata": {},
   "outputs": [],
   "source": [
    "import json\n",
    "image_map = None\n",
    "with open(\"C://Users//smaran//Downloads//Data//samplefoodcaptions.json\", 'r') as f:\n",
    "\n",
    "\n",
    "    image_map = json.load(f)"
   ]
  },
  {
   "cell_type": "code",
   "execution_count": 3,
   "id": "ae9e11d1",
   "metadata": {},
   "outputs": [
    {
     "name": "stdout",
     "output_type": "stream",
     "text": [
      "Captions List: ['Closeup of bins of food that include broccoli and bread.', 'A white plate with a brownie and white frosting.', 'Woman cutting pizza with fork and knife sitting next to young girl', 'a man and woman cut into a big cake ', 'A piece of cake and coffee are on an outdoor table.', 'Plate with a piece of bread, dark chocolate spread, bananas and a carton of Silk.', 'a small pizza that is on a white plate', 'This table is filled with a variety of different dishes.', 'a close up of a plastic container with hot dogs', 'Food in a bowl with carrots and drinks around it', 'A cheesy pizza sitting on top of a table.', 'a close up of a child next to a cake with balloons', 'A person licks his thumb while holding a piece of food.', 'A variety of donuts and pastries in a box.', 'A fresh cheese and basil pizza on a white plate', 'a plate of yummy food of some kind', 'some large pizzas on trays and some orange floor tiles ', 'A chicken sandwich in a wrapper near a cell phone.', 'Boxes of fresh fruit on display in a market.']\n"
     ]
    }
   ],
   "source": [
    "\n",
    "# Initialize a list for storing captions\n",
    "texts =[]\n",
    "original_texts = []\n",
    "# Initialize a dictionary to keep track of the number of captions for each image ID\n",
    "image_id_counts = {}\n",
    "\n",
    "# Process each caption\n",
    "for caption in image_map:\n",
    "    image_id = caption[\"image_id\"]\n",
    "    caption_text = caption[\"caption\"]\n",
    "    original_texts.append(caption_text)\n",
    "    #text = translate_caption(caption_text)\n",
    "\n",
    "    # Check if the image ID already has 2 captions in the list\n",
    "    if image_id in image_id_counts and image_id_counts[image_id] >= 1:\n",
    "        continue\n",
    "\n",
    "    # Add the caption to the list\n",
    "    texts.append(caption_text)\n",
    "\n",
    "    # Update the count for the image ID\n",
    "    image_id_counts[image_id] = image_id_counts.get(image_id, 0) + 1\n",
    "\n",
    "# Print or use the resulting list as needed\n",
    "print(\"Captions List:\", texts)\n"
   ]
  },
  {
   "cell_type": "code",
   "execution_count": 5,
   "id": "7bd0bbe7",
   "metadata": {},
   "outputs": [
    {
     "data": {
      "text/plain": [
       "'A fruit and produce stand with food being displayed in produce boxes.  '"
      ]
     },
     "execution_count": 5,
     "metadata": {},
     "output_type": "execute_result"
    }
   ],
   "source": [
    "caption_text"
   ]
  },
  {
   "cell_type": "code",
   "execution_count": 6,
   "id": "a5d1cbad",
   "metadata": {},
   "outputs": [
    {
     "data": {
      "text/plain": [
       "19"
      ]
     },
     "execution_count": 6,
     "metadata": {},
     "output_type": "execute_result"
    }
   ],
   "source": [
    "len(texts)"
   ]
  },
  {
   "cell_type": "code",
   "execution_count": 87,
   "id": "744e1b7e",
   "metadata": {},
   "outputs": [
    {
     "name": "stdout",
     "output_type": "stream",
     "text": [
      "19\n",
      "0\n",
      "19\n"
     ]
    }
   ],
   "source": [
    "print(len(names_image))\n",
    "print(len(images))\n",
    "print(len(texts))\n"
   ]
  },
  {
   "cell_type": "code",
   "execution_count": 4,
   "id": "8c2c8f10",
   "metadata": {},
   "outputs": [],
   "source": [
    "import pandas as pd\n",
    "custom_index = range(19)\n",
    "df = pd.DataFrame({'image': images, 'text': texts}, index=custom_index)\n",
    "#df.set_index('index', inplace=True)\n",
    "\n",
    "# Save DataFrame to CSV file\n",
    "df.to_csv('image_data5.csv')"
   ]
  },
  {
   "cell_type": "code",
   "execution_count": 5,
   "id": "5f46b50f",
   "metadata": {},
   "outputs": [],
   "source": [
    "import pandas as pd\n",
    "df = pd.read_csv('image_data5.csv')"
   ]
  },
  {
   "cell_type": "code",
   "execution_count": 77,
   "id": "00c10ad8",
   "metadata": {},
   "outputs": [
    {
     "data": {
      "text/html": [
       "<div>\n",
       "<style scoped>\n",
       "    .dataframe tbody tr th:only-of-type {\n",
       "        vertical-align: middle;\n",
       "    }\n",
       "\n",
       "    .dataframe tbody tr th {\n",
       "        vertical-align: top;\n",
       "    }\n",
       "\n",
       "    .dataframe thead th {\n",
       "        text-align: right;\n",
       "    }\n",
       "</style>\n",
       "<table border=\"1\" class=\"dataframe\">\n",
       "  <thead>\n",
       "    <tr style=\"text-align: right;\">\n",
       "      <th></th>\n",
       "      <th>Unnamed: 0</th>\n",
       "      <th>image</th>\n",
       "      <th>text</th>\n",
       "    </tr>\n",
       "  </thead>\n",
       "  <tbody>\n",
       "    <tr>\n",
       "      <th>0</th>\n",
       "      <td>0</td>\n",
       "      <td>&lt;PIL.Image.Image image mode=RGB size=224x224 a...</td>\n",
       "      <td>Closeup of bins of food that include broccoli ...</td>\n",
       "    </tr>\n",
       "    <tr>\n",
       "      <th>1</th>\n",
       "      <td>1</td>\n",
       "      <td>&lt;PIL.Image.Image image mode=RGB size=224x224 a...</td>\n",
       "      <td>A white plate with a brownie and white frosting.</td>\n",
       "    </tr>\n",
       "    <tr>\n",
       "      <th>2</th>\n",
       "      <td>2</td>\n",
       "      <td>&lt;PIL.Image.Image image mode=RGB size=224x224 a...</td>\n",
       "      <td>Woman cutting pizza with fork and knife sittin...</td>\n",
       "    </tr>\n",
       "    <tr>\n",
       "      <th>3</th>\n",
       "      <td>3</td>\n",
       "      <td>&lt;PIL.Image.Image image mode=RGB size=224x224 a...</td>\n",
       "      <td>a man and woman cut into a big cake</td>\n",
       "    </tr>\n",
       "    <tr>\n",
       "      <th>4</th>\n",
       "      <td>4</td>\n",
       "      <td>&lt;PIL.Image.Image image mode=RGB size=224x224 a...</td>\n",
       "      <td>A piece of cake and coffee are on an outdoor t...</td>\n",
       "    </tr>\n",
       "  </tbody>\n",
       "</table>\n",
       "</div>"
      ],
      "text/plain": [
       "   Unnamed: 0                                              image  \\\n",
       "0           0  <PIL.Image.Image image mode=RGB size=224x224 a...   \n",
       "1           1  <PIL.Image.Image image mode=RGB size=224x224 a...   \n",
       "2           2  <PIL.Image.Image image mode=RGB size=224x224 a...   \n",
       "3           3  <PIL.Image.Image image mode=RGB size=224x224 a...   \n",
       "4           4  <PIL.Image.Image image mode=RGB size=224x224 a...   \n",
       "\n",
       "                                                text  \n",
       "0  Closeup of bins of food that include broccoli ...  \n",
       "1   A white plate with a brownie and white frosting.  \n",
       "2  Woman cutting pizza with fork and knife sittin...  \n",
       "3               a man and woman cut into a big cake   \n",
       "4  A piece of cake and coffee are on an outdoor t...  "
      ]
     },
     "execution_count": 77,
     "metadata": {},
     "output_type": "execute_result"
    }
   ],
   "source": [
    "df.head()"
   ]
  },
  {
   "cell_type": "code",
   "execution_count": 6,
   "id": "8c0eabd4",
   "metadata": {},
   "outputs": [],
   "source": [
    "import pandas as pd\n",
    "\n",
    "# Assuming you have defined names_image, images, and texts elsewhere\n",
    "\n",
    "# Create DataFrame with custom index ranging from 0 to 18\n",
    "custom_index = range(19)\n",
    "df = pd.DataFrame({'image': images, 'text': texts}, index=custom_index)\n",
    "\n",
    "# Save DataFrame to CSV file\n",
    "df.to_csv('image_data6.csv')\n"
   ]
  },
  {
   "cell_type": "code",
   "execution_count": 7,
   "id": "3830c952",
   "metadata": {},
   "outputs": [
    {
     "data": {
      "text/html": [
       "<div>\n",
       "<style scoped>\n",
       "    .dataframe tbody tr th:only-of-type {\n",
       "        vertical-align: middle;\n",
       "    }\n",
       "\n",
       "    .dataframe tbody tr th {\n",
       "        vertical-align: top;\n",
       "    }\n",
       "\n",
       "    .dataframe thead th {\n",
       "        text-align: right;\n",
       "    }\n",
       "</style>\n",
       "<table border=\"1\" class=\"dataframe\">\n",
       "  <thead>\n",
       "    <tr style=\"text-align: right;\">\n",
       "      <th></th>\n",
       "      <th>image</th>\n",
       "      <th>text</th>\n",
       "    </tr>\n",
       "  </thead>\n",
       "  <tbody>\n",
       "    <tr>\n",
       "      <th>0</th>\n",
       "      <td>&lt;PIL.Image.Image image mode=RGB size=224x224 a...</td>\n",
       "      <td>Closeup of bins of food that include broccoli ...</td>\n",
       "    </tr>\n",
       "    <tr>\n",
       "      <th>1</th>\n",
       "      <td>&lt;PIL.Image.Image image mode=RGB size=224x224 a...</td>\n",
       "      <td>A white plate with a brownie and white frosting.</td>\n",
       "    </tr>\n",
       "    <tr>\n",
       "      <th>2</th>\n",
       "      <td>&lt;PIL.Image.Image image mode=RGB size=224x224 a...</td>\n",
       "      <td>Woman cutting pizza with fork and knife sittin...</td>\n",
       "    </tr>\n",
       "    <tr>\n",
       "      <th>3</th>\n",
       "      <td>&lt;PIL.Image.Image image mode=RGB size=224x224 a...</td>\n",
       "      <td>a man and woman cut into a big cake</td>\n",
       "    </tr>\n",
       "    <tr>\n",
       "      <th>4</th>\n",
       "      <td>&lt;PIL.Image.Image image mode=RGB size=224x224 a...</td>\n",
       "      <td>A piece of cake and coffee are on an outdoor t...</td>\n",
       "    </tr>\n",
       "  </tbody>\n",
       "</table>\n",
       "</div>"
      ],
      "text/plain": [
       "                                               image  \\\n",
       "0  <PIL.Image.Image image mode=RGB size=224x224 a...   \n",
       "1  <PIL.Image.Image image mode=RGB size=224x224 a...   \n",
       "2  <PIL.Image.Image image mode=RGB size=224x224 a...   \n",
       "3  <PIL.Image.Image image mode=RGB size=224x224 a...   \n",
       "4  <PIL.Image.Image image mode=RGB size=224x224 a...   \n",
       "\n",
       "                                                text  \n",
       "0  Closeup of bins of food that include broccoli ...  \n",
       "1   A white plate with a brownie and white frosting.  \n",
       "2  Woman cutting pizza with fork and knife sittin...  \n",
       "3               a man and woman cut into a big cake   \n",
       "4  A piece of cake and coffee are on an outdoor t...  "
      ]
     },
     "execution_count": 7,
     "metadata": {},
     "output_type": "execute_result"
    }
   ],
   "source": [
    "df.head()"
   ]
  },
  {
   "cell_type": "code",
   "execution_count": 8,
   "id": "a627c278",
   "metadata": {},
   "outputs": [
    {
     "data": {
      "application/vnd.jupyter.widget-view+json": {
       "model_id": "3a59ebd80b054065a7416ca526201a3a",
       "version_major": 2,
       "version_minor": 0
      },
      "text/plain": [
       "tokenizer_config.json:   0%|          | 0.00/904 [00:00<?, ?B/s]"
      ]
     },
     "metadata": {},
     "output_type": "display_data"
    },
    {
     "data": {
      "application/vnd.jupyter.widget-view+json": {
       "model_id": "9c8e3065a6734722bd175005e2b53d0c",
       "version_major": 2,
       "version_minor": 0
      },
      "text/plain": [
       "vocab.json:   0%|          | 0.00/798k [00:00<?, ?B/s]"
      ]
     },
     "metadata": {},
     "output_type": "display_data"
    },
    {
     "data": {
      "application/vnd.jupyter.widget-view+json": {
       "model_id": "cb40992341ba4aa8bd4107733bef9cbb",
       "version_major": 2,
       "version_minor": 0
      },
      "text/plain": [
       "merges.txt:   0%|          | 0.00/456k [00:00<?, ?B/s]"
      ]
     },
     "metadata": {},
     "output_type": "display_data"
    },
    {
     "data": {
      "application/vnd.jupyter.widget-view+json": {
       "model_id": "5a44ae029d17470283e4689e18a6cf67",
       "version_major": 2,
       "version_minor": 0
      },
      "text/plain": [
       "tokenizer.json:   0%|          | 0.00/2.11M [00:00<?, ?B/s]"
      ]
     },
     "metadata": {},
     "output_type": "display_data"
    },
    {
     "data": {
      "application/vnd.jupyter.widget-view+json": {
       "model_id": "c6cafdeac5c048ae9f4cd6cc8f77176b",
       "version_major": 2,
       "version_minor": 0
      },
      "text/plain": [
       "special_tokens_map.json:   0%|          | 0.00/548 [00:00<?, ?B/s]"
      ]
     },
     "metadata": {},
     "output_type": "display_data"
    }
   ],
   "source": [
    "import pandas as pd\n",
    "import numpy as np\n",
    "from PIL import Image\n",
    "from transformers import AutoTokenizer\n",
    "from sklearn.model_selection import train_test_split\n",
    "\n",
    "# Initialize lists to store images and encoded texts\n",
    "images = []\n",
    "encoded_texts = []\n",
    "''''\n",
    "# Preprocess the images\n",
    "for index, row in df.iterrows():\n",
    "    image_path = row[\"image_path\"]\n",
    "    image = Image.open(image_path)\n",
    "    image = image.resize((224, 224))\n",
    "    image = np.array(image)\n",
    "    images.append(image)\n",
    "\n",
    "# Convert the list of images to a numpy array\n",
    "images = np.array(images)\n",
    "# Store the images in the DataFrame\n",
    "df[\"image\"] = images\n",
    "'''\n",
    "# Preprocess the text descriptions\n",
    "tokenizer = AutoTokenizer.from_pretrained(\"salesforce/blip2-opt-2.7b\")\n",
    "for index, row in df.iterrows():\n",
    "    text = row[\"text\"]\n",
    "\n",
    "    encoded_text = tokenizer(text=text, return_tensors=\"pt\")\n",
    "    # Convert the encoded text to a string representation\n",
    "    encoded_text_str = str(encoded_text)\n",
    "    encoded_texts.append(encoded_text_str)\n",
    "\n",
    "# Store the encoded texts in the DataFrame\n",
    "df[\"encoded_text\"] = encoded_texts\n",
    "\n",
    "# Split the dataset into training, validation, and testing subsets\n",
    "#train_df, val_df, test_df = train_test_split(df, test_size=0.2)\n"
   ]
  },
  {
   "cell_type": "code",
   "execution_count": 79,
   "id": "b2941738",
   "metadata": {},
   "outputs": [
    {
     "data": {
      "text/html": [
       "<div>\n",
       "<style scoped>\n",
       "    .dataframe tbody tr th:only-of-type {\n",
       "        vertical-align: middle;\n",
       "    }\n",
       "\n",
       "    .dataframe tbody tr th {\n",
       "        vertical-align: top;\n",
       "    }\n",
       "\n",
       "    .dataframe thead th {\n",
       "        text-align: right;\n",
       "    }\n",
       "</style>\n",
       "<table border=\"1\" class=\"dataframe\">\n",
       "  <thead>\n",
       "    <tr style=\"text-align: right;\">\n",
       "      <th></th>\n",
       "      <th>Unnamed: 0</th>\n",
       "      <th>image</th>\n",
       "      <th>text</th>\n",
       "      <th>encoded_text</th>\n",
       "    </tr>\n",
       "  </thead>\n",
       "  <tbody>\n",
       "    <tr>\n",
       "      <th>0</th>\n",
       "      <td>0</td>\n",
       "      <td>&lt;PIL.Image.Image image mode=RGB size=224x224 a...</td>\n",
       "      <td>Closeup of bins of food that include broccoli ...</td>\n",
       "      <td>{'input_ids': tensor([[    2, 42841,   658,   ...</td>\n",
       "    </tr>\n",
       "    <tr>\n",
       "      <th>1</th>\n",
       "      <td>1</td>\n",
       "      <td>&lt;PIL.Image.Image image mode=RGB size=224x224 a...</td>\n",
       "      <td>A white plate with a brownie and white frosting.</td>\n",
       "      <td>{'input_ids': tensor([[    2,   250,  1104,  5...</td>\n",
       "    </tr>\n",
       "    <tr>\n",
       "      <th>2</th>\n",
       "      <td>2</td>\n",
       "      <td>&lt;PIL.Image.Image image mode=RGB size=224x224 a...</td>\n",
       "      <td>Woman cutting pizza with fork and knife sittin...</td>\n",
       "      <td>{'input_ids': tensor([[    2, 41075,  3931,  9...</td>\n",
       "    </tr>\n",
       "    <tr>\n",
       "      <th>3</th>\n",
       "      <td>3</td>\n",
       "      <td>&lt;PIL.Image.Image image mode=RGB size=224x224 a...</td>\n",
       "      <td>a man and woman cut into a big cake</td>\n",
       "      <td>{'input_ids': tensor([[   2,  102,  313,    8,...</td>\n",
       "    </tr>\n",
       "    <tr>\n",
       "      <th>4</th>\n",
       "      <td>4</td>\n",
       "      <td>&lt;PIL.Image.Image image mode=RGB size=224x224 a...</td>\n",
       "      <td>A piece of cake and coffee are on an outdoor t...</td>\n",
       "      <td>{'input_ids': tensor([[   2,  250, 2125,    9,...</td>\n",
       "    </tr>\n",
       "  </tbody>\n",
       "</table>\n",
       "</div>"
      ],
      "text/plain": [
       "   Unnamed: 0                                              image  \\\n",
       "0           0  <PIL.Image.Image image mode=RGB size=224x224 a...   \n",
       "1           1  <PIL.Image.Image image mode=RGB size=224x224 a...   \n",
       "2           2  <PIL.Image.Image image mode=RGB size=224x224 a...   \n",
       "3           3  <PIL.Image.Image image mode=RGB size=224x224 a...   \n",
       "4           4  <PIL.Image.Image image mode=RGB size=224x224 a...   \n",
       "\n",
       "                                                text  \\\n",
       "0  Closeup of bins of food that include broccoli ...   \n",
       "1   A white plate with a brownie and white frosting.   \n",
       "2  Woman cutting pizza with fork and knife sittin...   \n",
       "3               a man and woman cut into a big cake    \n",
       "4  A piece of cake and coffee are on an outdoor t...   \n",
       "\n",
       "                                        encoded_text  \n",
       "0  {'input_ids': tensor([[    2, 42841,   658,   ...  \n",
       "1  {'input_ids': tensor([[    2,   250,  1104,  5...  \n",
       "2  {'input_ids': tensor([[    2, 41075,  3931,  9...  \n",
       "3  {'input_ids': tensor([[   2,  102,  313,    8,...  \n",
       "4  {'input_ids': tensor([[   2,  250, 2125,    9,...  "
      ]
     },
     "execution_count": 79,
     "metadata": {},
     "output_type": "execute_result"
    }
   ],
   "source": [
    "df.head()"
   ]
  },
  {
   "cell_type": "code",
   "execution_count": 9,
   "id": "5eb90cfb",
   "metadata": {},
   "outputs": [],
   "source": [
    "from sklearn.model_selection import train_test_split\n",
    "\n",
    "# Split the dataset into training and combined validation-test subsets\n",
    "train_df, val_test_df = train_test_split(df, test_size=0.2, random_state=42)\n",
    "\n",
    "# Further split the validation-test subset into separate validation and test subsets\n",
    "val_df, test_df = train_test_split(val_test_df, test_size=0.5, random_state=42)\n"
   ]
  },
  {
   "cell_type": "code",
   "execution_count": null,
   "id": "cdb98c28",
   "metadata": {},
   "outputs": [],
   "source": [
    "#Starting from here "
   ]
  },
  {
   "cell_type": "code",
   "execution_count": 10,
   "id": "376d60c3",
   "metadata": {},
   "outputs": [],
   "source": [
    "import torch\n",
    "from transformers import Blip2Config, Blip2Model, Blip2ForConditionalGeneration\n",
    "from PIL import Image\n",
    "import requests\n",
    "from transformers import Blip2Processor, AutoTokenizer\n",
    "\n",
    "# Define the Blip2Config\n",
    "config = Blip2Config(\n",
    "    vision_config=dict(\n",
    "        hidden_size=1408,\n",
    "        intermediate_size=6144,\n",
    "        num_hidden_layers=39,\n",
    "        num_attention_heads=16,\n",
    "        image_size=224,\n",
    "        patch_size=14,\n",
    "        hidden_act=\"gelu\",\n",
    "        layer_norm_eps=1e-6,\n",
    "        attention_dropout=0.0,\n",
    "        initializer_range=1e-10,\n",
    "        qkv_bias=True\n",
    "    ),\n",
    "    qformer_config=dict(\n",
    "        vocab_size=30522,\n",
    "        hidden_size=768,\n",
    "        num_hidden_layers=12,\n",
    "        num_attention_heads=12,\n",
    "        intermediate_size=3072,\n",
    "        hidden_act=\"gelu\",\n",
    "        hidden_dropout_prob=0.1,\n",
    "        attention_probs_dropout_prob=0.1,\n",
    "        max_position_embeddings=512,\n",
    "        initializer_range=0.02,\n",
    "        layer_norm_eps=1e-12,\n",
    "        pad_token_id=0,\n",
    "        position_embedding_type=\"absolute\",\n",
    "        cross_attention_frequency=2,\n",
    "        encoder_hidden_size=1408\n",
    "    )\n",
    ")"
   ]
  },
  {
   "cell_type": "code",
   "execution_count": 48,
   "id": "181b418c",
   "metadata": {},
   "outputs": [
    {
     "ename": "TypeError",
     "evalue": "transformers.models.blip_2.configuration_blip_2.Blip2VisionConfig() argument after ** must be a mapping, not Blip2VisionConfig",
     "output_type": "error",
     "traceback": [
      "\u001b[1;31m---------------------------------------------------------------------------\u001b[0m",
      "\u001b[1;31mTypeError\u001b[0m                                 Traceback (most recent call last)",
      "Cell \u001b[1;32mIn[48], line 15\u001b[0m\n\u001b[0;32m     12\u001b[0m text_config \u001b[38;5;241m=\u001b[39m OPTConfig()\n\u001b[0;32m     14\u001b[0m \u001b[38;5;66;03m# Initialize a Blip2Config using the provided vision, Q-Former, and language model configurations\u001b[39;00m\n\u001b[1;32m---> 15\u001b[0m config \u001b[38;5;241m=\u001b[39m \u001b[43mBlip2Config\u001b[49m\u001b[43m(\u001b[49m\n\u001b[0;32m     16\u001b[0m \u001b[43m    \u001b[49m\u001b[43mvision_config\u001b[49m\u001b[38;5;241;43m=\u001b[39;49m\u001b[43mvision_config\u001b[49m\u001b[43m,\u001b[49m\n\u001b[0;32m     17\u001b[0m \u001b[43m    \u001b[49m\u001b[43mqformer_config\u001b[49m\u001b[38;5;241;43m=\u001b[39;49m\u001b[43mqformer_config\u001b[49m\u001b[43m,\u001b[49m\n\u001b[0;32m     18\u001b[0m \u001b[43m    \u001b[49m\u001b[43mtext_config\u001b[49m\u001b[38;5;241;43m=\u001b[39;49m\u001b[43mtext_config\u001b[49m\n\u001b[0;32m     19\u001b[0m \u001b[43m)\u001b[49m\n\u001b[0;32m     21\u001b[0m \u001b[38;5;66;03m# Optionally, you can initialize a Blip2ForConditionalGeneration model with the configured Blip2Config\u001b[39;00m\n\u001b[0;32m     22\u001b[0m model \u001b[38;5;241m=\u001b[39m Blip2ForConditionalGeneration(config)\n",
      "File \u001b[1;32mD:\\Python Testing\\cuda\\lib\\site-packages\\transformers\\models\\blip_2\\configuration_blip_2.py:320\u001b[0m, in \u001b[0;36mBlip2Config.__init__\u001b[1;34m(self, vision_config, qformer_config, text_config, num_query_tokens, **kwargs)\u001b[0m\n\u001b[0;32m    317\u001b[0m     text_config \u001b[38;5;241m=\u001b[39m {}\n\u001b[0;32m    318\u001b[0m     logger\u001b[38;5;241m.\u001b[39minfo(\u001b[38;5;124m\"\u001b[39m\u001b[38;5;124mtext_config is None. Initializing the text config with default values (`OPTConfig`).\u001b[39m\u001b[38;5;124m\"\u001b[39m)\n\u001b[1;32m--> 320\u001b[0m \u001b[38;5;28mself\u001b[39m\u001b[38;5;241m.\u001b[39mvision_config \u001b[38;5;241m=\u001b[39m Blip2VisionConfig(\u001b[38;5;241m*\u001b[39m\u001b[38;5;241m*\u001b[39mvision_config)\n\u001b[0;32m    321\u001b[0m \u001b[38;5;28mself\u001b[39m\u001b[38;5;241m.\u001b[39mqformer_config \u001b[38;5;241m=\u001b[39m Blip2QFormerConfig(\u001b[38;5;241m*\u001b[39m\u001b[38;5;241m*\u001b[39mqformer_config)\n\u001b[0;32m    322\u001b[0m text_model_type \u001b[38;5;241m=\u001b[39m text_config[\u001b[38;5;124m\"\u001b[39m\u001b[38;5;124mmodel_type\u001b[39m\u001b[38;5;124m\"\u001b[39m] \u001b[38;5;28;01mif\u001b[39;00m \u001b[38;5;124m\"\u001b[39m\u001b[38;5;124mmodel_type\u001b[39m\u001b[38;5;124m\"\u001b[39m \u001b[38;5;129;01min\u001b[39;00m text_config \u001b[38;5;28;01melse\u001b[39;00m \u001b[38;5;124m\"\u001b[39m\u001b[38;5;124mopt\u001b[39m\u001b[38;5;124m\"\u001b[39m\n",
      "\u001b[1;31mTypeError\u001b[0m: transformers.models.blip_2.configuration_blip_2.Blip2VisionConfig() argument after ** must be a mapping, not Blip2VisionConfig"
     ]
    }
   ],
   "source": [
    "from transformers import (\n",
    "    Blip2VisionConfig,\n",
    "    Blip2QFormerConfig,\n",
    "    OPTConfig,\n",
    "    Blip2Config,\n",
    "    Blip2ForConditionalGeneration,\n",
    ")\n",
    "\n",
    "# Initializing BLIP-2 vision, BLIP-2 Q-Former, and language model configurations\n",
    "vision_config = Blip2VisionConfig()\n",
    "qformer_config = Blip2QFormerConfig()\n",
    "text_config = OPTConfig()\n",
    "\n",
    "# Initialize a Blip2Config using the provided vision, Q-Former, and language model configurations\n",
    "config = Blip2Config(\n",
    "    vision_config=vision_config,\n",
    "    qformer_config=qformer_config,\n",
    "    text_config=text_config\n",
    ")\n",
    "\n",
    "# Optionally, you can initialize a Blip2ForConditionalGeneration model with the configured Blip2Config\n",
    "model = Blip2ForConditionalGeneration(config)\n",
    "\n",
    "# Accessing the model configuration\n",
    "configuration = model.config\n"
   ]
  },
  {
   "cell_type": "code",
   "execution_count": 11,
   "id": "998b7a54",
   "metadata": {},
   "outputs": [],
   "source": [
    "from transformers import Blip2VisionConfig\n",
    "\n",
    "# Define the configuration parameters\n",
    "config_params = {\n",
    "    \"hidden_size\": 1408,\n",
    "    \"intermediate_size\": 6144,\n",
    "    \"num_hidden_layers\": 39,\n",
    "    \"num_attention_heads\": 16,\n",
    "    \"image_size\": 224,\n",
    "    \"patch_size\": 14,\n",
    "    \"hidden_act\": \"gelu\",\n",
    "    \"layer_norm_eps\": 1e-06,\n",
    "    \"attention_dropout\": 0.0,\n",
    "    \"initializer_range\": 1e-10,\n",
    "    \"qkv_bias\": True\n",
    "}\n",
    "\n",
    "# Initialize a Blip2VisionConfig with the provided parameters\n",
    "vision_config = Blip2VisionConfig(**config_params)\n"
   ]
  },
  {
   "cell_type": "code",
   "execution_count": 12,
   "id": "2b3812f1",
   "metadata": {},
   "outputs": [],
   "source": [
    "from transformers import Blip2VisionConfig, Blip2VisionModel\n",
    "\n",
    "# Initializing a Blip2VisionConfig with Salesforce/blip2-opt-2.7b style configuration\n",
    "configuration = Blip2VisionConfig()\n",
    "\n",
    "# Initializing a Blip2VisionModel (with random weights) from the Salesforce/blip2-opt-2.7b style configuration\n",
    "model = Blip2VisionModel(configuration)\n",
    "\n",
    "# Accessing the model configuration\n",
    "configuration = model.config"
   ]
  },
  {
   "cell_type": "code",
   "execution_count": 13,
   "id": "53a165d7",
   "metadata": {},
   "outputs": [],
   "source": [
    "from transformers import Blip2VisionConfig\n",
    "\n",
    "# Initialize a Blip2VisionConfig object with the provided parameters\n",
    "vision_config = Blip2VisionConfig(\n",
    "    hidden_size=1408,\n",
    "    intermediate_size=6144,\n",
    "    num_hidden_layers=39,\n",
    "    num_attention_heads=16,\n",
    "    image_size=224,\n",
    "    patch_size=14,\n",
    "    hidden_act='gelu',\n",
    "    layer_norm_eps=1e-06,\n",
    "    attention_dropout=0.0,\n",
    "    initializer_range=1e-10,\n",
    "    qkv_bias=True\n",
    ")\n"
   ]
  },
  {
   "cell_type": "code",
   "execution_count": 14,
   "id": "90c62998",
   "metadata": {},
   "outputs": [],
   "source": [
    "from transformers import Blip2VisionConfig, Blip2VisionModel\n",
    "\n",
    "# Initializing a Blip2VisionConfig with Salesforce/blip2-opt-2.7b style configuration\n",
    "configuration = Blip2VisionConfig()\n",
    "\n",
    "# Initializing a Blip2VisionModel (with random weights) from the Salesforce/blip2-opt-2.7b style configuration\n",
    "model = Blip2VisionModel(configuration)\n",
    "\n",
    "# Accessing the model configuration\n",
    "configuration = model.config"
   ]
  },
  {
   "cell_type": "code",
   "execution_count": 15,
   "id": "fe0c3e2f",
   "metadata": {},
   "outputs": [],
   "source": [
    "from transformers import Blip2QFormerConfig\n",
    "\n",
    "# Define the parameters for Blip2QFormerConfig\n",
    "config_params = {\n",
    "    \"vocab_size\": 30522,\n",
    "    \"hidden_size\": 768,\n",
    "    \"num_hidden_layers\": 12,\n",
    "    \"num_attention_heads\": 12,\n",
    "    \"intermediate_size\": 3072,\n",
    "    \"hidden_act\": \"gelu\",\n",
    "    \"hidden_dropout_prob\": 0.1,\n",
    "    \"attention_probs_dropout_prob\": 0.1,\n",
    "    \"max_position_embeddings\": 512,\n",
    "    \"initializer_range\": 0.02,\n",
    "    \"layer_norm_eps\": 1e-12,\n",
    "    \"pad_token_id\": 0,\n",
    "    \"position_embedding_type\": \"absolute\",\n",
    "    \n",
    "    \"cross_attention_frequency\": 2,\n",
    "    \"encoder_hidden_size\": 1408\n",
    "}\n",
    "\n",
    "# Initialize a Blip2QFormerConfig object with the provided parameters\n",
    "qformer_config = Blip2QFormerConfig(**config_params)\n"
   ]
  },
  {
   "cell_type": "code",
   "execution_count": 16,
   "id": "ab4d3d48",
   "metadata": {},
   "outputs": [],
   "source": [
    "from transformers import Blip2QFormerConfig, Blip2QFormerModel\n",
    "\n",
    "# Initializing a BLIP-2 Salesforce/blip2-opt-2.7b style configuration\n",
    "configuration = Blip2QFormerConfig()\n",
    "\n",
    "# Initializing a model (with random weights) from the Salesforce/blip2-opt-2.7b style configuration\n",
    "model = Blip2QFormerModel(configuration)\n",
    "# Accessing the model configuration\n",
    "configuration = model.config"
   ]
  },
  {
   "cell_type": "code",
   "execution_count": null,
   "id": "a5ec602c",
   "metadata": {},
   "outputs": [
    {
     "data": {
      "application/vnd.jupyter.widget-view+json": {
       "model_id": "7e1fe99f1d7445dd8648e557dc0574bb",
       "version_major": 2,
       "version_minor": 0
      },
      "text/plain": [
       "preprocessor_config.json:   0%|          | 0.00/432 [00:00<?, ?B/s]"
      ]
     },
     "metadata": {},
     "output_type": "display_data"
    },
    {
     "data": {
      "application/vnd.jupyter.widget-view+json": {
       "model_id": "6c696b28329d4b1e971449ed84b2f2ee",
       "version_major": 2,
       "version_minor": 0
      },
      "text/plain": [
       "config.json:   0%|          | 0.00/6.96k [00:00<?, ?B/s]"
      ]
     },
     "metadata": {},
     "output_type": "display_data"
    },
    {
     "data": {
      "application/vnd.jupyter.widget-view+json": {
       "model_id": "714d549396894417ba77de599e16cc62",
       "version_major": 2,
       "version_minor": 0
      },
      "text/plain": [
       "model.safetensors.index.json:   0%|          | 0.00/127k [00:00<?, ?B/s]"
      ]
     },
     "metadata": {},
     "output_type": "display_data"
    },
    {
     "data": {
      "application/vnd.jupyter.widget-view+json": {
       "model_id": "4b415ce6344742b08985625c2689f389",
       "version_major": 2,
       "version_minor": 0
      },
      "text/plain": [
       "Downloading shards:   0%|          | 0/2 [00:00<?, ?it/s]"
      ]
     },
     "metadata": {},
     "output_type": "display_data"
    },
    {
     "data": {
      "application/vnd.jupyter.widget-view+json": {
       "model_id": "3ddc006a6ecd4a01993c96db9c1aecff",
       "version_major": 2,
       "version_minor": 0
      },
      "text/plain": [
       "model-00001-of-00002.safetensors:   0%|          | 0.00/10.0G [00:00<?, ?B/s]"
      ]
     },
     "metadata": {},
     "output_type": "display_data"
    },
    {
     "data": {
      "application/vnd.jupyter.widget-view+json": {
       "model_id": "2735dac5b0fe4fb98adcf88cb7b707ff",
       "version_major": 2,
       "version_minor": 0
      },
      "text/plain": [
       "model-00002-of-00002.safetensors:   0%|          | 0.00/5.50G [00:00<?, ?B/s]"
      ]
     },
     "metadata": {},
     "output_type": "display_data"
    },
    {
     "data": {
      "application/vnd.jupyter.widget-view+json": {
       "model_id": "4c583ceef90845aa99f29d82f5c61867",
       "version_major": 2,
       "version_minor": 0
      },
      "text/plain": [
       "Loading checkpoint shards:   0%|          | 0/2 [00:00<?, ?it/s]"
      ]
     },
     "metadata": {},
     "output_type": "display_data"
    }
   ],
   "source": [
    "from PIL import Image\n",
    "import requests\n",
    "from transformers import Blip2Processor, Blip2Model\n",
    "import torch\n",
    "\n",
    "device = \"cuda\" if torch.cuda.is_available() else \"cpu\"\n",
    "\n",
    "processor = Blip2Processor.from_pretrained(\"Salesforce/blip2-opt-2.7b\")\n",
    "model = Blip2Model.from_pretrained(\"Salesforce/blip2-opt-2.7b\", torch_dtype=torch.float16)\n",
    "model.to(device)\n",
    "#url = \"http://images.cocodataset.org/val2017/000000039769.jpg\"\n",
    "#image = Image.open(requests.get(url, stream=True).raw)\n",
    "\n",
    "#prompt = \"Question: how many cats are there? Answer:\"\n",
    "#inputs = processor(images=image, text=prompt, return_tensors=\"pt\").to(device, torch.float16)\n",
    "\n",
    "#outputs = model(**inputs)"
   ]
  },
  {
   "cell_type": "code",
   "execution_count": null,
   "id": "69ee38cf",
   "metadata": {},
   "outputs": [],
   "source": [
    "from torch.utils.data import DataLoader\n",
    "import torch\n",
    "from tqdm import tqdm\n",
    "# Set up the training environment\n",
    "device = torch.device(\"cuda\" if torch.cuda.is_available() else \"cpu\")\n",
    "# Define the training and validation data loaders\n",
    "train_data = QFormerDataset(train_df)\n",
    "train_loader = DataLoader(train_data, batch_size=32, shuffle=True, num_workers=4)\n",
    "val_data = QFormerDataset(val_df)\n",
    "val_loader = DataLoader(val_data, batch_size=32, num_workers=4)\n",
    "# Define the loss function and optimizer\n",
    "loss_func = CrossEntropyLoss()\n",
    "optimizer = AdamW(model.parameters(), lr=3e-4)\n",
    "# Implement the training loop\n",
    "epochs = 10\n",
    "for epoch in range(epochs):\n",
    "    model.train()\n",
    "    losses = []\n",
    "    for i, batch in enumerate(tqdm(train_loader)):\n",
    "        images, encoded_texts, targets = batch\n",
    "        images = images.to(device)\n",
    "        encoded_texts = encoded_texts.to(device)\n",
    "        targets = targets.to(device)\n",
    "        outputs = model(images, encoded_texts)\n",
    "        loss = loss_func(outputs[\"logits\"], targets)\n",
    "        losses.append(loss.item())\n",
    "        optimizer.zero_grad()\n",
    "        loss.backward()\n",
    "        optimizer.step()\n",
    "    val_loss = evaluate(model, val_loader)\n",
    "    print(\"Epoch: {} - Training Loss: {:.4f} - Validation Loss: {:.4f}\".format(\n",
    "        epoch + 1, losses[-1], val_loss\n",
    "    ))"
   ]
  },
  {
   "cell_type": "code",
   "execution_count": 92,
   "id": "799083ff",
   "metadata": {},
   "outputs": [
    {
     "data": {
      "text/html": [
       "<div>\n",
       "<style scoped>\n",
       "    .dataframe tbody tr th:only-of-type {\n",
       "        vertical-align: middle;\n",
       "    }\n",
       "\n",
       "    .dataframe tbody tr th {\n",
       "        vertical-align: top;\n",
       "    }\n",
       "\n",
       "    .dataframe thead th {\n",
       "        text-align: right;\n",
       "    }\n",
       "</style>\n",
       "<table border=\"1\" class=\"dataframe\">\n",
       "  <thead>\n",
       "    <tr style=\"text-align: right;\">\n",
       "      <th></th>\n",
       "      <th>image</th>\n",
       "      <th>text</th>\n",
       "    </tr>\n",
       "  </thead>\n",
       "  <tbody>\n",
       "    <tr>\n",
       "      <th>8</th>\n",
       "      <td>&lt;PIL.Image.Image image mode=RGB size=224x224 a...</td>\n",
       "      <td>a close up of a plastic container with hot dogs</td>\n",
       "    </tr>\n",
       "    <tr>\n",
       "      <th>16</th>\n",
       "      <td>&lt;PIL.Image.Image image mode=RGB size=224x224 a...</td>\n",
       "      <td>some large pizzas on trays and some orange flo...</td>\n",
       "    </tr>\n",
       "    <tr>\n",
       "      <th>3</th>\n",
       "      <td>&lt;PIL.Image.Image image mode=RGB size=224x224 a...</td>\n",
       "      <td>a man and woman cut into a big cake</td>\n",
       "    </tr>\n",
       "    <tr>\n",
       "      <th>13</th>\n",
       "      <td>&lt;PIL.Image.Image image mode=RGB size=224x224 a...</td>\n",
       "      <td>A variety of donuts and pastries in a box.</td>\n",
       "    </tr>\n",
       "    <tr>\n",
       "      <th>15</th>\n",
       "      <td>&lt;PIL.Image.Image image mode=RGB size=224x224 a...</td>\n",
       "      <td>a plate of yummy food of some kind</td>\n",
       "    </tr>\n",
       "    <tr>\n",
       "      <th>17</th>\n",
       "      <td>&lt;PIL.Image.Image image mode=RGB size=224x224 a...</td>\n",
       "      <td>A chicken sandwich in a wrapper near a cell ph...</td>\n",
       "    </tr>\n",
       "    <tr>\n",
       "      <th>2</th>\n",
       "      <td>&lt;PIL.Image.Image image mode=RGB size=224x224 a...</td>\n",
       "      <td>Woman cutting pizza with fork and knife sittin...</td>\n",
       "    </tr>\n",
       "    <tr>\n",
       "      <th>9</th>\n",
       "      <td>&lt;PIL.Image.Image image mode=RGB size=224x224 a...</td>\n",
       "      <td>Food in a bowl with carrots and drinks around it</td>\n",
       "    </tr>\n",
       "    <tr>\n",
       "      <th>18</th>\n",
       "      <td>&lt;PIL.Image.Image image mode=RGB size=224x224 a...</td>\n",
       "      <td>Boxes of fresh fruit on display in a market.</td>\n",
       "    </tr>\n",
       "    <tr>\n",
       "      <th>4</th>\n",
       "      <td>&lt;PIL.Image.Image image mode=RGB size=224x224 a...</td>\n",
       "      <td>A piece of cake and coffee are on an outdoor t...</td>\n",
       "    </tr>\n",
       "    <tr>\n",
       "      <th>12</th>\n",
       "      <td>&lt;PIL.Image.Image image mode=RGB size=224x224 a...</td>\n",
       "      <td>A person licks his thumb while holding a piece...</td>\n",
       "    </tr>\n",
       "    <tr>\n",
       "      <th>7</th>\n",
       "      <td>&lt;PIL.Image.Image image mode=RGB size=224x224 a...</td>\n",
       "      <td>This table is filled with a variety of differe...</td>\n",
       "    </tr>\n",
       "    <tr>\n",
       "      <th>10</th>\n",
       "      <td>&lt;PIL.Image.Image image mode=RGB size=224x224 a...</td>\n",
       "      <td>A cheesy pizza sitting on top of a table.</td>\n",
       "    </tr>\n",
       "    <tr>\n",
       "      <th>14</th>\n",
       "      <td>&lt;PIL.Image.Image image mode=RGB size=224x224 a...</td>\n",
       "      <td>A fresh cheese and basil pizza on a white plate</td>\n",
       "    </tr>\n",
       "    <tr>\n",
       "      <th>6</th>\n",
       "      <td>&lt;PIL.Image.Image image mode=RGB size=224x224 a...</td>\n",
       "      <td>a small pizza that is on a white plate</td>\n",
       "    </tr>\n",
       "  </tbody>\n",
       "</table>\n",
       "</div>"
      ],
      "text/plain": [
       "                                                image  \\\n",
       "8   <PIL.Image.Image image mode=RGB size=224x224 a...   \n",
       "16  <PIL.Image.Image image mode=RGB size=224x224 a...   \n",
       "3   <PIL.Image.Image image mode=RGB size=224x224 a...   \n",
       "13  <PIL.Image.Image image mode=RGB size=224x224 a...   \n",
       "15  <PIL.Image.Image image mode=RGB size=224x224 a...   \n",
       "17  <PIL.Image.Image image mode=RGB size=224x224 a...   \n",
       "2   <PIL.Image.Image image mode=RGB size=224x224 a...   \n",
       "9   <PIL.Image.Image image mode=RGB size=224x224 a...   \n",
       "18  <PIL.Image.Image image mode=RGB size=224x224 a...   \n",
       "4   <PIL.Image.Image image mode=RGB size=224x224 a...   \n",
       "12  <PIL.Image.Image image mode=RGB size=224x224 a...   \n",
       "7   <PIL.Image.Image image mode=RGB size=224x224 a...   \n",
       "10  <PIL.Image.Image image mode=RGB size=224x224 a...   \n",
       "14  <PIL.Image.Image image mode=RGB size=224x224 a...   \n",
       "6   <PIL.Image.Image image mode=RGB size=224x224 a...   \n",
       "\n",
       "                                                 text  \n",
       "8     a close up of a plastic container with hot dogs  \n",
       "16  some large pizzas on trays and some orange flo...  \n",
       "3                a man and woman cut into a big cake   \n",
       "13         A variety of donuts and pastries in a box.  \n",
       "15                 a plate of yummy food of some kind  \n",
       "17  A chicken sandwich in a wrapper near a cell ph...  \n",
       "2   Woman cutting pizza with fork and knife sittin...  \n",
       "9    Food in a bowl with carrots and drinks around it  \n",
       "18       Boxes of fresh fruit on display in a market.  \n",
       "4   A piece of cake and coffee are on an outdoor t...  \n",
       "12  A person licks his thumb while holding a piece...  \n",
       "7   This table is filled with a variety of differe...  \n",
       "10          A cheesy pizza sitting on top of a table.  \n",
       "14    A fresh cheese and basil pizza on a white plate  \n",
       "6              a small pizza that is on a white plate  "
      ]
     },
     "execution_count": 92,
     "metadata": {},
     "output_type": "execute_result"
    }
   ],
   "source": [
    "train_df"
   ]
  },
  {
   "cell_type": "code",
   "execution_count": 93,
   "id": "196c2256",
   "metadata": {},
   "outputs": [
    {
     "name": "stderr",
     "output_type": "stream",
     "text": [
      "  0%|                                                                                            | 0/1 [00:18<?, ?it/s]\n"
     ]
    },
    {
     "ename": "KeyError",
     "evalue": "Caught KeyError in DataLoader worker process 0.\nOriginal Traceback (most recent call last):\n  File \"D:\\Python Testing\\cuda\\lib\\site-packages\\pandas\\core\\indexes\\base.py\", line 3805, in get_loc\n    return self._engine.get_loc(casted_key)\n  File \"index.pyx\", line 167, in pandas._libs.index.IndexEngine.get_loc\n  File \"index.pyx\", line 196, in pandas._libs.index.IndexEngine.get_loc\n  File \"pandas\\\\_libs\\\\hashtable_class_helper.pxi\", line 7081, in pandas._libs.hashtable.PyObjectHashTable.get_item\n  File \"pandas\\\\_libs\\\\hashtable_class_helper.pxi\", line 7089, in pandas._libs.hashtable.PyObjectHashTable.get_item\nKeyError: 14\n\nThe above exception was the direct cause of the following exception:\n\nTraceback (most recent call last):\n  File \"D:\\Python Testing\\cuda\\lib\\site-packages\\torch\\utils\\data\\_utils\\worker.py\", line 308, in _worker_loop\n    data = fetcher.fetch(index)\n  File \"D:\\Python Testing\\cuda\\lib\\site-packages\\torch\\utils\\data\\_utils\\fetch.py\", line 51, in fetch\n    data = [self.dataset[idx] for idx in possibly_batched_index]\n  File \"D:\\Python Testing\\cuda\\lib\\site-packages\\torch\\utils\\data\\_utils\\fetch.py\", line 51, in <listcomp>\n    data = [self.dataset[idx] for idx in possibly_batched_index]\n  File \"D:\\Python Testing\\cuda\\lib\\site-packages\\pandas\\core\\frame.py\", line 4090, in __getitem__\n    indexer = self.columns.get_loc(key)\n  File \"D:\\Python Testing\\cuda\\lib\\site-packages\\pandas\\core\\indexes\\base.py\", line 3812, in get_loc\n    raise KeyError(key) from err\nKeyError: 14\n",
     "output_type": "error",
     "traceback": [
      "\u001b[1;31m---------------------------------------------------------------------------\u001b[0m",
      "\u001b[1;31mKeyError\u001b[0m                                  Traceback (most recent call last)",
      "Cell \u001b[1;32mIn[93], line 26\u001b[0m\n\u001b[0;32m     24\u001b[0m model\u001b[38;5;241m.\u001b[39mtrain()\n\u001b[0;32m     25\u001b[0m losses \u001b[38;5;241m=\u001b[39m []\n\u001b[1;32m---> 26\u001b[0m \u001b[38;5;28;01mfor\u001b[39;00m i, batch \u001b[38;5;129;01min\u001b[39;00m \u001b[38;5;28menumerate\u001b[39m(tqdm(train_loader)):\n\u001b[0;32m     27\u001b[0m     \u001b[38;5;66;03m# Assuming your Blip2Dataset returns images, texts, and targets\u001b[39;00m\n\u001b[0;32m     28\u001b[0m     images, texts, targets \u001b[38;5;241m=\u001b[39m batch\n\u001b[0;32m     29\u001b[0m     images \u001b[38;5;241m=\u001b[39m images\u001b[38;5;241m.\u001b[39mto(device)\n",
      "File \u001b[1;32mD:\\Python Testing\\cuda\\lib\\site-packages\\tqdm\\std.py:1181\u001b[0m, in \u001b[0;36mtqdm.__iter__\u001b[1;34m(self)\u001b[0m\n\u001b[0;32m   1178\u001b[0m time \u001b[38;5;241m=\u001b[39m \u001b[38;5;28mself\u001b[39m\u001b[38;5;241m.\u001b[39m_time\n\u001b[0;32m   1180\u001b[0m \u001b[38;5;28;01mtry\u001b[39;00m:\n\u001b[1;32m-> 1181\u001b[0m     \u001b[38;5;28;01mfor\u001b[39;00m obj \u001b[38;5;129;01min\u001b[39;00m iterable:\n\u001b[0;32m   1182\u001b[0m         \u001b[38;5;28;01myield\u001b[39;00m obj\n\u001b[0;32m   1183\u001b[0m         \u001b[38;5;66;03m# Update and possibly print the progressbar.\u001b[39;00m\n\u001b[0;32m   1184\u001b[0m         \u001b[38;5;66;03m# Note: does not call self.update(1) for speed optimisation.\u001b[39;00m\n",
      "File \u001b[1;32mD:\\Python Testing\\cuda\\lib\\site-packages\\torch\\utils\\data\\dataloader.py:631\u001b[0m, in \u001b[0;36m_BaseDataLoaderIter.__next__\u001b[1;34m(self)\u001b[0m\n\u001b[0;32m    628\u001b[0m \u001b[38;5;28;01mif\u001b[39;00m \u001b[38;5;28mself\u001b[39m\u001b[38;5;241m.\u001b[39m_sampler_iter \u001b[38;5;129;01mis\u001b[39;00m \u001b[38;5;28;01mNone\u001b[39;00m:\n\u001b[0;32m    629\u001b[0m     \u001b[38;5;66;03m# TODO(https://github.com/pytorch/pytorch/issues/76750)\u001b[39;00m\n\u001b[0;32m    630\u001b[0m     \u001b[38;5;28mself\u001b[39m\u001b[38;5;241m.\u001b[39m_reset()  \u001b[38;5;66;03m# type: ignore[call-arg]\u001b[39;00m\n\u001b[1;32m--> 631\u001b[0m data \u001b[38;5;241m=\u001b[39m \u001b[38;5;28;43mself\u001b[39;49m\u001b[38;5;241;43m.\u001b[39;49m\u001b[43m_next_data\u001b[49m\u001b[43m(\u001b[49m\u001b[43m)\u001b[49m\n\u001b[0;32m    632\u001b[0m \u001b[38;5;28mself\u001b[39m\u001b[38;5;241m.\u001b[39m_num_yielded \u001b[38;5;241m+\u001b[39m\u001b[38;5;241m=\u001b[39m \u001b[38;5;241m1\u001b[39m\n\u001b[0;32m    633\u001b[0m \u001b[38;5;28;01mif\u001b[39;00m \u001b[38;5;28mself\u001b[39m\u001b[38;5;241m.\u001b[39m_dataset_kind \u001b[38;5;241m==\u001b[39m _DatasetKind\u001b[38;5;241m.\u001b[39mIterable \u001b[38;5;129;01mand\u001b[39;00m \\\n\u001b[0;32m    634\u001b[0m         \u001b[38;5;28mself\u001b[39m\u001b[38;5;241m.\u001b[39m_IterableDataset_len_called \u001b[38;5;129;01mis\u001b[39;00m \u001b[38;5;129;01mnot\u001b[39;00m \u001b[38;5;28;01mNone\u001b[39;00m \u001b[38;5;129;01mand\u001b[39;00m \\\n\u001b[0;32m    635\u001b[0m         \u001b[38;5;28mself\u001b[39m\u001b[38;5;241m.\u001b[39m_num_yielded \u001b[38;5;241m>\u001b[39m \u001b[38;5;28mself\u001b[39m\u001b[38;5;241m.\u001b[39m_IterableDataset_len_called:\n",
      "File \u001b[1;32mD:\\Python Testing\\cuda\\lib\\site-packages\\torch\\utils\\data\\dataloader.py:1346\u001b[0m, in \u001b[0;36m_MultiProcessingDataLoaderIter._next_data\u001b[1;34m(self)\u001b[0m\n\u001b[0;32m   1344\u001b[0m \u001b[38;5;28;01melse\u001b[39;00m:\n\u001b[0;32m   1345\u001b[0m     \u001b[38;5;28;01mdel\u001b[39;00m \u001b[38;5;28mself\u001b[39m\u001b[38;5;241m.\u001b[39m_task_info[idx]\n\u001b[1;32m-> 1346\u001b[0m     \u001b[38;5;28;01mreturn\u001b[39;00m \u001b[38;5;28;43mself\u001b[39;49m\u001b[38;5;241;43m.\u001b[39;49m\u001b[43m_process_data\u001b[49m\u001b[43m(\u001b[49m\u001b[43mdata\u001b[49m\u001b[43m)\u001b[49m\n",
      "File \u001b[1;32mD:\\Python Testing\\cuda\\lib\\site-packages\\torch\\utils\\data\\dataloader.py:1372\u001b[0m, in \u001b[0;36m_MultiProcessingDataLoaderIter._process_data\u001b[1;34m(self, data)\u001b[0m\n\u001b[0;32m   1370\u001b[0m \u001b[38;5;28mself\u001b[39m\u001b[38;5;241m.\u001b[39m_try_put_index()\n\u001b[0;32m   1371\u001b[0m \u001b[38;5;28;01mif\u001b[39;00m \u001b[38;5;28misinstance\u001b[39m(data, ExceptionWrapper):\n\u001b[1;32m-> 1372\u001b[0m     \u001b[43mdata\u001b[49m\u001b[38;5;241;43m.\u001b[39;49m\u001b[43mreraise\u001b[49m\u001b[43m(\u001b[49m\u001b[43m)\u001b[49m\n\u001b[0;32m   1373\u001b[0m \u001b[38;5;28;01mreturn\u001b[39;00m data\n",
      "File \u001b[1;32mD:\\Python Testing\\cuda\\lib\\site-packages\\torch\\_utils.py:722\u001b[0m, in \u001b[0;36mExceptionWrapper.reraise\u001b[1;34m(self)\u001b[0m\n\u001b[0;32m    718\u001b[0m \u001b[38;5;28;01mexcept\u001b[39;00m \u001b[38;5;167;01mTypeError\u001b[39;00m:\n\u001b[0;32m    719\u001b[0m     \u001b[38;5;66;03m# If the exception takes multiple arguments, don't try to\u001b[39;00m\n\u001b[0;32m    720\u001b[0m     \u001b[38;5;66;03m# instantiate since we don't know how to\u001b[39;00m\n\u001b[0;32m    721\u001b[0m     \u001b[38;5;28;01mraise\u001b[39;00m \u001b[38;5;167;01mRuntimeError\u001b[39;00m(msg) \u001b[38;5;28;01mfrom\u001b[39;00m \u001b[38;5;28;01mNone\u001b[39;00m\n\u001b[1;32m--> 722\u001b[0m \u001b[38;5;28;01mraise\u001b[39;00m exception\n",
      "\u001b[1;31mKeyError\u001b[0m: Caught KeyError in DataLoader worker process 0.\nOriginal Traceback (most recent call last):\n  File \"D:\\Python Testing\\cuda\\lib\\site-packages\\pandas\\core\\indexes\\base.py\", line 3805, in get_loc\n    return self._engine.get_loc(casted_key)\n  File \"index.pyx\", line 167, in pandas._libs.index.IndexEngine.get_loc\n  File \"index.pyx\", line 196, in pandas._libs.index.IndexEngine.get_loc\n  File \"pandas\\\\_libs\\\\hashtable_class_helper.pxi\", line 7081, in pandas._libs.hashtable.PyObjectHashTable.get_item\n  File \"pandas\\\\_libs\\\\hashtable_class_helper.pxi\", line 7089, in pandas._libs.hashtable.PyObjectHashTable.get_item\nKeyError: 14\n\nThe above exception was the direct cause of the following exception:\n\nTraceback (most recent call last):\n  File \"D:\\Python Testing\\cuda\\lib\\site-packages\\torch\\utils\\data\\_utils\\worker.py\", line 308, in _worker_loop\n    data = fetcher.fetch(index)\n  File \"D:\\Python Testing\\cuda\\lib\\site-packages\\torch\\utils\\data\\_utils\\fetch.py\", line 51, in fetch\n    data = [self.dataset[idx] for idx in possibly_batched_index]\n  File \"D:\\Python Testing\\cuda\\lib\\site-packages\\torch\\utils\\data\\_utils\\fetch.py\", line 51, in <listcomp>\n    data = [self.dataset[idx] for idx in possibly_batched_index]\n  File \"D:\\Python Testing\\cuda\\lib\\site-packages\\pandas\\core\\frame.py\", line 4090, in __getitem__\n    indexer = self.columns.get_loc(key)\n  File \"D:\\Python Testing\\cuda\\lib\\site-packages\\pandas\\core\\indexes\\base.py\", line 3812, in get_loc\n    raise KeyError(key) from err\nKeyError: 14\n"
     ]
    }
   ],
   "source": [
    "#Sample\n",
    "from torch.utils.data import DataLoader\n",
    "import torch\n",
    "from torch.nn import CrossEntropyLoss\n",
    "from torch.optim import AdamW\n",
    "from tqdm import tqdm\n",
    "from transformers import Blip2Processor, Blip2Model\n",
    "\n",
    "# Assuming you have defined your Blip2Dataset and evaluate functions elsewhere\n",
    "\n",
    "\n",
    "\n",
    "# Define the training and validation data loaders\n",
    "train_loader = DataLoader(train_df, batch_size=32, shuffle=True, num_workers=4)\n",
    "val_loader = DataLoader(val_df, batch_size=32, num_workers=4)\n",
    "\n",
    "# Define the loss function and optimizer\n",
    "loss_func = CrossEntropyLoss()\n",
    "optimizer = AdamW(model.parameters(), lr=3e-4)\n",
    "\n",
    "# Implement the training loop\n",
    "epochs = 10\n",
    "for epoch in range(epochs):\n",
    "    model.train()\n",
    "    losses = []\n",
    "    for i, batch in enumerate(tqdm(train_loader)):\n",
    "        # Assuming your Blip2Dataset returns images, texts, and targets\n",
    "        images, texts, targets = batch\n",
    "        images = images.to(device)\n",
    "        texts = texts.to(device)\n",
    "        targets = targets.to(device)\n",
    "        outputs = model(images, texts)\n",
    "        loss = loss_func(outputs.logits, targets)\n",
    "        losses.append(loss.item())\n",
    "        optimizer.zero_grad()\n",
    "        loss.backward()\n",
    "        optimizer.step()\n",
    "    # Assuming you have defined the evaluate function elsewhere\n",
    "    val_loss = evaluate(model, val_loader)\n",
    "    print(\"Epoch: {} - Training Loss: {:.4f} - Validation Loss: {:.4f}\".format(\n",
    "        epoch + 1, losses[-1], val_loss\n",
    "    ))\n"
   ]
  },
  {
   "cell_type": "code",
   "execution_count": null,
   "id": "009570b0",
   "metadata": {},
   "outputs": [
    {
     "data": {
      "application/vnd.jupyter.widget-view+json": {
       "model_id": "337c2e0e3276417a894c94cf9a7f0b39",
       "version_major": 2,
       "version_minor": 0
      },
      "text/plain": [
       "Loading checkpoint shards:   0%|          | 0/2 [00:00<?, ?it/s]"
      ]
     },
     "metadata": {},
     "output_type": "display_data"
    }
   ],
   "source": [
    "import os\n",
    "import torch\n",
    "from PIL import Image\n",
    "from transformers import Blip2Processor, Blip2Model\n",
    "\n",
    "processor = Blip2Processor.from_pretrained(\"Salesforce/blip2-opt-2.7b\")\n",
    "model = Blip2Model.from_pretrained(\"Salesforce/blip2-opt-2.7b\")\n",
    "\n",
    "# Path to the folder containing the images\n",
    "folder_path = \"C://Users//smaran//Downloads//Data//samplefood\"\n",
    "\n",
    "# List to store qformer outputs for each image\n",
    "qformer_outputs_list = []\n",
    "\n",
    "# Loop through each image in the folder\n",
    "for filename in os.listdir(folder_path):\n",
    "    # Check if the file is an image file\n",
    "    if filename.endswith(\".jpg\") or filename.endswith(\".png\"):\n",
    "        # Construct the full path to the image file\n",
    "        image_path = os.path.join(folder_path, filename)\n",
    "        \n",
    "        # Open the image\n",
    "        image = Image.open(image_path)\n",
    "        \n",
    "        # Process the image with the Blip2 processor\n",
    "        inputs = processor(images=image, return_tensors=\"pt\")\n",
    "        \n",
    "        # Get the qformer features\n",
    "        qformer_outputs = model.get_qformer_features(**inputs)\n",
    "        \n",
    "        # Append the qformer outputs to the list\n",
    "        qformer_outputs_list.append(qformer_outputs)\n",
    "\n",
    "# Convert the list of outputs to a tuple\n",
    "qformer_outputs_tuple = tuple(qformer_outputs_list)\n",
    "\n",
    "# Print the tuple of qformer outputs\n",
    "print(qformer_outputs_tuple)\n"
   ]
  },
  {
   "cell_type": "code",
   "execution_count": null,
   "id": "12526636",
   "metadata": {},
   "outputs": [],
   "source": []
  }
 ],
 "metadata": {
  "kernelspec": {
   "display_name": "cuda-gpt",
   "language": "python",
   "name": "cuda"
  },
  "language_info": {
   "codemirror_mode": {
    "name": "ipython",
    "version": 3
   },
   "file_extension": ".py",
   "mimetype": "text/x-python",
   "name": "python",
   "nbconvert_exporter": "python",
   "pygments_lexer": "ipython3",
   "version": "3.9.7"
  }
 },
 "nbformat": 4,
 "nbformat_minor": 5
}
