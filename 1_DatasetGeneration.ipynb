{
 "cells": [
  {
   "cell_type": "markdown",
   "metadata": {},
   "source": [
    "Before running the code, ensure that you have downloaded COCO dataset and save the images and annotations under ./data/coco/images and ./data/coco/annotations respectively \n",
    "\n",
    "Foe donwloading the dataset, you may use :\n",
    "\n",
    "wget http://images.cocodataset.org/zips/train2017.zip\n",
    "wget http://images.cocodataset.org/zips/val2017.zip\n",
    "wget http://images.cocodataset.org/zips/test2017.zip\n",
    "wget http://images.cocodataset.org/zips/unlabeled2017.zip\n",
    "\n",
    "Go to the respective directory and unzip them using:\n",
    "\n",
    "unzip train2017.zip\n",
    "unzip val2017.zip\n",
    "unzip test2017.zip\n",
    "unzip unlabeled2017.zip\n",
    "\n",
    "rm train2017.zip\n",
    "rm val2017.zip\n",
    "rm test2017.zip\n",
    "rm unlabeled2017.zip "
    "Author: Maria Mathews "
   ]
  },
  {
   "cell_type": "code",
   "execution_count": 6,
   "metadata": {},
   "outputs": [],
   "source": [
    "import os\n",
    "import json\n",
    "import shutil\n",
    "import sys\n",
    "from pycocotools.coco import COCO"
   ]
  },
  {
   "cell_type": "code",
   "execution_count": 8,
   "metadata": {},
   "outputs": [],
   "source": [
    "current_directory = '.'\n",
    "# Change the split type accordingly. Choose among train2017, test_2017, val2017\n",
    "split_type = 'train2017'"
   ]
  },
  {
   "cell_type": "code",
   "execution_count": 12,
   "metadata": {},
   "outputs": [],
   "source": [
    "#Define paths\n",
    "images_source_dir = os.path.join(current_directory, 'data', 'coco', 'images', split_type)  # Source directory for images\n",
    "food_images_dest_dir = os.path.join(current_directory, 'data', 'coco_food', 'food_images', f'food_{split_type}')  # Destination directory for food images\n",
    "annotations_dir = os.path.join(current_directory, 'data', 'coco', 'annotations')\n",
    "annotations_file = os.path.join(annotations_dir, f'instances_{split_type}.json')"
   ]
  },
  {
   "cell_type": "markdown",
   "metadata": {},
   "source": [
    "Run the below code cell for required classes. For cake images, just use class_names={'cake'}"
   ]
  },
  {
   "cell_type": "code",
   "execution_count": 16,
   "metadata": {},
   "outputs": [
    {
     "name": "stdout",
     "output_type": "stream",
     "text": [
      "loading annotations into memory...\n",
      "Done (t=15.25s)\n",
      "creating index...\n",
      "index created!\n",
      "Extracting apple now\n",
      "Extracting orange now\n",
      "Extracting cake now\n",
      "Extracting carrot now\n",
      "Extracting sandwich now\n",
      "Extracting pizza now\n",
      "Extracting banana now\n",
      "Extracting donut now\n"
     ]
    }
   ],
   "source": [
    "# Class name. \n",
    "class_names={'carrot', 'pizza', 'donut', 'cake', 'banana', 'apple', 'sandwich', 'orange'}\n",
    "images_count = sys.maxsize\n",
    "# Load COCO annotations\n",
    "coco = COCO(annotations_file)\n",
    "\n",
    "for class_name in class_names:\n",
    "    print('Extracting', class_name, 'now')\n",
    "    # Specify a list of category names of interest\n",
    "    catIds = coco.getCatIds(catNms=[class_name])\n",
    "\n",
    "    # Get the corresponding image ids and images using loadImgs\n",
    "    imgIds = coco.getImgIds(catIds=catIds)\n",
    "    images = coco.loadImgs(imgIds)\n",
    "\n",
    "    # Create directory for the class\n",
    "    os.makedirs(os.path.join(food_images_dest_dir, class_name), exist_ok=True)\n",
    "\n",
    "    # Save the images into the destination folder   \n",
    "    count = 0\n",
    "    for img in images:\n",
    "        # Construct source and destination paths\n",
    "        src_path = os.path.join(images_source_dir, img['file_name'])\n",
    "        dest_path = os.path.join(food_images_dest_dir, class_name, img['file_name'])\n",
    "\n",
    "        # Copy the image file\n",
    "        shutil.copy(src_path, dest_path)\n",
    "\n",
    "        count += 1\n",
    "        if count >= images_count:\n",
    "            print('Finished copying', images_count, class_name, 'images.')\n",
    "            break"
   ]
  },
  {
   "cell_type": "code",
   "execution_count": 17,
   "metadata": {},
   "outputs": [],
   "source": [
    "# Define paths for original dataset older and the deriving food dataset folder\n",
    "source_dir = os.path.join(current_directory, 'data', 'coco_food', 'food_images', f'food_{split_type}')\n",
    "all_food_dir = os.path.join(current_directory, 'data', 'coco_food', 'food_images', f'all_food_{split_type}')\n",
    "# Create all_food_<split_type> directory if it doesn't exist\n",
    "os.makedirs(all_food_dir, exist_ok=True)"
   ]
  },
  {
   "cell_type": "markdown",
   "metadata": {},
   "source": [
    "If this implementation is used for extracting images for multiple classes (in the current scope of this project, it is just 'cake'), run this cell to merge all the classes into a single folder"
   ]
  },
  {
   "cell_type": "code",
   "execution_count": 18,
   "metadata": {},
   "outputs": [
    {
     "name": "stdout",
     "output_type": "stream",
     "text": [
      "Files copied to 'all_food_train2017' directory and the original 'food_train2017' directory deleted.\n"
     ]
    }
   ],
   "source": [
    "# Iterate over each folder inside source_dir\n",
    "for folder in os.listdir(source_dir):\n",
    "    folder_path = os.path.join(source_dir, folder)\n",
    "    if os.path.isdir(folder_path):\n",
    "        # Copy files from current folder to all_food_<split_type> directory\n",
    "        for filename in os.listdir(folder_path):\n",
    "            src_path = os.path.join(folder_path, filename)\n",
    "            dest_path = os.path.join(all_food_dir, filename)\n",
    "            shutil.copy(src_path, dest_path)\n",
    "        \n",
    "        # Delete the folder\n",
    "        shutil.rmtree(folder_path)\n",
    "\n",
    "# Delete the original food_split directory\n",
    "shutil.rmtree(source_dir)\n",
    "\n",
    "print(f\"Files copied to 'all_food_{split_type}' directory and the original 'food_{split_type}' directory deleted.\")"
   ]
  },
  {
   "cell_type": "code",
   "execution_count": 22,
   "metadata": {},
   "outputs": [
    {
     "name": "stdout",
     "output_type": "stream",
     "text": [
      "72254 Annotations extracted for 14442 images and saved to '.\\data\\coco_food\\food_annotations\\all_food_captions_train2017.json'.\n"
     ]
    }
   ],
   "source": [
    "# Define paths for saving the respective annotation\n",
    "food_images_dir = os.path.join(current_directory, 'data', 'coco_food', 'food_images', f'all_food_{split_type}')\n",
    "food_captions_dir = food_captions_dir = os.path.join(current_directory, 'data', 'coco_food', 'food_annotations')\n",
    "food_captions_file = os.path.join(food_captions_dir, f'all_food_captions_{split_type}.json')\n",
    "annotations_dir = os.path.join(current_directory, 'data', 'coco', 'annotations')\n",
    "annotations_file = os.path.join(annotations_dir, f'captions_{split_type}.json')\n",
    "\n",
    "# Create all_food_<split_type> directory if it doesn't exist\n",
    "os.makedirs(food_captions_dir, exist_ok=True)\n",
    "\n",
    "# Initialize counters\n",
    "img_count = 0\n",
    "anno_count = 0\n",
    "\n",
    "# Load annotations from the corresponding file\n",
    "with open(annotations_file, 'r') as f:\n",
    "    annotations_data = json.load(f)\n",
    "\n",
    "# Initialize list to store all annotations\n",
    "annotations = []\n",
    "\n",
    "# Iterate over each image in the all_food_image folder\n",
    "for filename in os.listdir(food_images_dir):\n",
    "    if filename.endswith('.jpg'):  # Assuming images are in JPEG format\n",
    "        image_id = int(filename.split('.')[0])  # Extract image ID from filename\n",
    "        img_count += 1\n",
    "        # Find all annotations for the current image ID\n",
    "        image_annotations = [annotation for annotation in annotations_data['annotations'] if annotation['image_id'] == image_id]\n",
    "        annotations.extend(image_annotations)\n",
    "        anno_count += len(image_annotations)\n",
    "\n",
    "# Save collected annotations into a new JSON file\n",
    "with open(food_captions_file, 'w') as f:\n",
    "    json.dump(annotations, f)\n",
    "\n",
    "print(f\"{anno_count} Annotations extracted for {img_count} images and saved to '{food_captions_file}'.\")"
   ]
  }
 ],
 "metadata": {
  "kernelspec": {
   "display_name": "cv3dr",
   "language": "python",
   "name": "python3"
  },
  "language_info": {
   "codemirror_mode": {
    "name": "ipython",
    "version": 3
   },
   "file_extension": ".py",
   "mimetype": "text/x-python",
   "name": "python",
   "nbconvert_exporter": "python",
   "pygments_lexer": "ipython3",
   "version": "3.9.19"
  }
 },
 "nbformat": 4,
 "nbformat_minor": 2
}
